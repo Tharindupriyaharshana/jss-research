{
  "cells": [
    {
      "cell_type": "code",
      "execution_count": null,
      "metadata": {
        "id": "EtK__R-rgA4R"
      },
      "outputs": [],
      "source": [
        "!pip install gym stable_baselines3\n"
      ]
    },
    {
      "cell_type": "code",
      "execution_count": null,
      "metadata": {
        "id": "eVciU-JlqJPc"
      },
      "outputs": [],
      "source": [
        "!pip install stable-baselines3[extra] gym\n"
      ]
    },
    {
      "cell_type": "code",
      "execution_count": null,
      "metadata": {
        "id": "QQDoHaQigr4g"
      },
      "outputs": [],
      "source": [
        "!pip install 'shimmy>=0.2.1'\n"
      ]
    },
    {
      "cell_type": "code",
      "execution_count": null,
      "metadata": {
        "id": "QQWS130sqIjh"
      },
      "outputs": [],
      "source": []
    },
    {
      "cell_type": "code",
      "source": [],
      "metadata": {
        "id": "J-i9hMJ08cXT"
      },
      "execution_count": null,
      "outputs": []
    },
    {
      "cell_type": "code",
      "source": [
        "!pip install pulp\n"
      ],
      "metadata": {
        "colab": {
          "base_uri": "https://localhost:8080/"
        },
        "id": "J789lzpquol1",
        "outputId": "1bab98ea-aa87-4d17-ed28-f2eacfa27445"
      },
      "execution_count": null,
      "outputs": [
        {
          "output_type": "stream",
          "name": "stdout",
          "text": [
            "Collecting pulp\n",
            "  Downloading PuLP-2.7.0-py3-none-any.whl (14.3 MB)\n",
            "\u001b[2K     \u001b[90m━━━━━━━━━━━━━━━━━━━━━━━━━━━━━━━━━━━━━━━━\u001b[0m \u001b[32m14.3/14.3 MB\u001b[0m \u001b[31m38.8 MB/s\u001b[0m eta \u001b[36m0:00:00\u001b[0m\n",
            "\u001b[?25hInstalling collected packages: pulp\n",
            "Successfully installed pulp-2.7.0\n"
          ]
        }
      ]
    },
    {
      "cell_type": "code",
      "source": [
        "import random\n",
        "\n",
        "# Parameters\n",
        "num_jobs = 5\n",
        "job_durations = [10, 3, 20, 8, 1]\n",
        "num_machines = 3\n",
        "population_size = 50\n",
        "generations = 100\n",
        "crossover_rate = 0.8\n",
        "mutation_rate = 0.1\n",
        "\n",
        "# Initialize population\n",
        "def initialize_population(population_size, num_jobs, num_machines):\n",
        "    return [[random.randint(0, num_machines - 1) for _ in range(num_jobs)] for _ in range(population_size)]\n",
        "\n",
        "# Calculate makespan\n",
        "def calculate_makespan(chromosome, job_durations, num_machines):\n",
        "    machine_times = [0] * num_machines\n",
        "    for job, machine in enumerate(chromosome):\n",
        "        machine_times[machine] += job_durations[job]\n",
        "    return max(machine_times)\n",
        "\n",
        "# Selection - Tournament selection\n",
        "def tournament_selection(population, fitness, tournament_size=3):\n",
        "    selected = []\n",
        "    for _ in range(len(population)):\n",
        "        tournament = [random.choice(range(len(population))) for _ in range(tournament_size)]\n",
        "        fittest_individual = min(tournament, key=lambda i: fitness[i])\n",
        "        selected.append(population[fittest_individual])\n",
        "    return selected\n",
        "\n",
        "# Crossover - Single point crossover\n",
        "def crossover(parent1, parent2):\n",
        "    if random.random() < crossover_rate:\n",
        "        point = random.randint(1, len(parent1) - 1)\n",
        "        return parent1[:point] + parent2[point:], parent2[:point] + parent1[point:]\n",
        "    else:\n",
        "        return parent1, parent2\n",
        "\n",
        "# Mutation - Randomly change a job's machine assignment\n",
        "def mutate(chromosome, num_machines, mutation_rate):\n",
        "    for i in range(len(chromosome)):\n",
        "        if random.random() < mutation_rate:\n",
        "            chromosome[i] = random.randint(0, num_machines - 1)\n",
        "    return chromosome\n",
        "\n",
        "# Main Genetic Algorithm\n",
        "population = initialize_population(population_size, num_jobs, num_machines)\n",
        "\n",
        "for generation in range(generations):\n",
        "    # Calculate fitness for each individual\n",
        "    fitness = [calculate_makespan(individual, job_durations, num_machines) for individual in population]\n",
        "\n",
        "    # Selection\n",
        "    selected = tournament_selection(population, fitness)\n",
        "\n",
        "    # Crossover\n",
        "    offspring = []\n",
        "    for i in range(0, len(selected), 2):\n",
        "        parent1, parent2 = selected[i], selected[i + 1]\n",
        "        child1, child2 = crossover(parent1, parent2)\n",
        "        offspring.extend([child1, child2])\n",
        "\n",
        "    # Mutation\n",
        "    population = [mutate(individual, num_machines, mutation_rate) for individual in offspring]\n",
        "\n",
        "# Find the best solution\n",
        "best_solution = min(population, key=lambda chrom: calculate_makespan(chrom, job_durations, num_machines))\n",
        "best_makespan = calculate_makespan(best_solution, job_durations, num_machines)\n",
        "\n",
        "print(\"Best Schedule:\", best_solution)\n",
        "print(\"Best Makespan:\", best_makespan)\n"
      ],
      "metadata": {
        "colab": {
          "base_uri": "https://localhost:8080/"
        },
        "id": "XlznDVTDvDp9",
        "outputId": "2fcefc73-ae56-4f4e-9c49-9c6a0053d136"
      },
      "execution_count": null,
      "outputs": [
        {
          "output_type": "stream",
          "name": "stdout",
          "text": [
            "Best Schedule: [1, 2, 0, 2, 1]\n",
            "Best Makespan: 20\n"
          ]
        }
      ]
    },
    {
      "cell_type": "code",
      "source": [
        "import random\n",
        "\n",
        "# Parameters\n",
        "num_jobs = 10\n",
        "job_durations = [10, 3, 20, 8, 1,10, 3, 20, 8, 1]\n",
        "num_machines = 5\n",
        "population_size = 50\n",
        "generations = 100\n",
        "crossover_rate = 0.8\n",
        "mutation_rate = 0.1\n",
        "\n",
        "# Initialize population\n",
        "def initialize_population(population_size, num_jobs, num_machines):\n",
        "    return [[random.randint(0, num_machines - 1) for _ in range(num_jobs)] for _ in range(population_size)]\n",
        "\n",
        "# Calculate makespan and balance\n",
        "def calculate_makespan_and_balance(chromosome, job_durations, num_machines):\n",
        "    machine_times = [0] * num_machines\n",
        "    for job, machine in enumerate(chromosome):\n",
        "        machine_times[machine] += job_durations[job]\n",
        "    max_makespan = max(machine_times)\n",
        "    balance_penalty = sum([(max_makespan - time)**2 for time in machine_times])  # Penalize unbalanced schedules\n",
        "    return max_makespan + balance_penalty\n",
        "\n",
        "# Tournament selection\n",
        "def tournament_selection(population, fitness, tournament_size=3):\n",
        "    selected = []\n",
        "    for _ in range(len(population)):\n",
        "        tournament = [random.choice(range(len(population))) for _ in range(tournament_size)]\n",
        "        fittest_individual = min(tournament, key=lambda i: fitness[i])\n",
        "        selected.append(population[fittest_individual])\n",
        "    return selected\n",
        "\n",
        "# Crossover - Single point crossover\n",
        "def crossover(parent1, parent2):\n",
        "    if random.random() < crossover_rate:\n",
        "        point = random.randint(1, len(parent1) - 1)\n",
        "        return parent1[:point] + parent2[point:], parent2[:point] + parent1[point:]\n",
        "    else:\n",
        "        return parent1, parent2\n",
        "\n",
        "# Mutation - Randomly change a job's machine assignment\n",
        "def mutate(chromosome, num_machines, mutation_rate):\n",
        "    for i in range(len(chromosome)):\n",
        "        if random.random() < mutation_rate:\n",
        "            chromosome[i] = random.randint(0, num_machines - 1)\n",
        "    return chromosome\n",
        "\n",
        "# Function to create a readable schedule from the chromosome\n",
        "def create_schedule(chromosome, job_durations):\n",
        "    schedule = {machine: [] for machine in range(num_machines)}\n",
        "    for job, machine in enumerate(chromosome):\n",
        "        schedule[machine].append((f\"J{job+1}\", job_durations[job]))\n",
        "    return schedule\n",
        "\n",
        "# Main Genetic Algorithm\n",
        "population = initialize_population(population_size, num_jobs, num_machines)\n",
        "\n",
        "for generation in range(generations):\n",
        "    fitness = [calculate_makespan_and_balance(individual, job_durations, num_machines) for individual in population]\n",
        "    selected = tournament_selection(population, fitness)\n",
        "    offspring = []\n",
        "    for i in range(0, len(selected), 2):\n",
        "        parent1, parent2 = selected[i], selected[i + 1]\n",
        "        child1, child2 = crossover(parent1, parent2)\n",
        "        offspring.extend([child1, child2])\n",
        "    population = [mutate(individual, num_machines, mutation_rate) for individual in offspring]\n",
        "\n",
        "# Find the best solution and create schedule\n",
        "best_solution = min(population, key=lambda chrom: calculate_makespan_and_balance(chrom, job_durations, num_machines))\n",
        "best_schedule = create_schedule(best_solution, job_durations)\n",
        "print(best_schedule)\n",
        "# Displaying the schedule\n",
        "print(\"Optimal Schedule:\")\n",
        "for machine, jobs in best_schedule.items():\n",
        "    job_list = ', '.join([job[0] for job in jobs])\n",
        "    makespan = sum([job[1] for job in jobs])\n",
        "    print(f\"Machine {machine + 1} - Jobs: {job_list} | Makespan: {makespan} minutes\")\n"
      ],
      "metadata": {
        "colab": {
          "base_uri": "https://localhost:8080/"
        },
        "id": "C_rDkYmvBBTu",
        "outputId": "0936cead-b31e-4dc0-e633-1c025ed996b3"
      },
      "execution_count": null,
      "outputs": [
        {
          "output_type": "stream",
          "name": "stdout",
          "text": [
            "{0: [('J4', 8), ('J9', 8)], 1: [('J1', 10), ('J5', 1), ('J7', 3)], 2: [('J2', 3), ('J6', 10), ('J10', 1)], 3: [('J8', 20)], 4: [('J3', 20)]}\n",
            "Optimal Schedule:\n",
            "Machine 1 - Jobs: J4, J9 | Makespan: 16 minutes\n",
            "Machine 2 - Jobs: J1, J5, J7 | Makespan: 14 minutes\n",
            "Machine 3 - Jobs: J2, J6, J10 | Makespan: 14 minutes\n",
            "Machine 4 - Jobs: J8 | Makespan: 20 minutes\n",
            "Machine 5 - Jobs: J3 | Makespan: 20 minutes\n"
          ]
        }
      ]
    },
    {
      "cell_type": "code",
      "source": [
        "# Revised approach to include the robot cell information in the schedule\n",
        "\n",
        "# Original schedule\n",
        "original_schedule = best_schedule\n",
        "\n",
        "# User input for robot cells\n",
        "user_input = {\n",
        "    \"R 1\": [1, 3],\n",
        "    \"R 2\": [2,5],\n",
        "    \"R 3\": [4]\n",
        "\n",
        "}\n",
        "\n",
        "# Function to find the robot cell for a given machine\n",
        "def find_robot_cell(machine_number, user_input):\n",
        "    for cell_name, machines in user_input.items():\n",
        "        if machine_number in machines:\n",
        "            return cell_name\n",
        "    return None\n",
        "\n",
        "# Adding robot cell information to each schedule\n",
        "for machine, jobs in original_schedule.items():\n",
        "    robot_cell = find_robot_cell(machine + 1, user_input)  # +1 because machine numbering starts from 1\n",
        "    original_schedule[machine] = (robot_cell, jobs)\n",
        "\n",
        "# Re-arranging the schedule by robot cell\n",
        "rearranged_schedule = dict(sorted(original_schedule.items(), key=lambda item: item[1][0]))\n",
        "\n",
        "# Displaying the rearranged schedule\n",
        "for machine, (cell, jobs) in rearranged_schedule.items():\n",
        "    job_list = ', '.join([job[0] for job in jobs])\n",
        "    makespan = sum([job[1] for job in jobs])\n",
        "    print(f\"Machine {machine} (in {cell}) - Jobs: {job_list} | Makespan: {makespan} minutes\")\n",
        "\n",
        "# Return rearranged_schedule for further analysis if needed\n",
        "rearranged_schedule\n",
        "\n",
        "\n"
      ],
      "metadata": {
        "colab": {
          "base_uri": "https://localhost:8080/"
        },
        "id": "pmzGckmN-aln",
        "outputId": "104a36f1-fc40-47fc-dbc9-84cab62f13a4"
      },
      "execution_count": null,
      "outputs": [
        {
          "output_type": "stream",
          "name": "stdout",
          "text": [
            "Machine 0 (in R 1) - Jobs: J4, J9 | Makespan: 16 minutes\n",
            "Machine 2 (in R 1) - Jobs: J2, J6, J10 | Makespan: 14 minutes\n",
            "Machine 1 (in R 2) - Jobs: J1, J5, J7 | Makespan: 14 minutes\n",
            "Machine 4 (in R 2) - Jobs: J3 | Makespan: 20 minutes\n",
            "Machine 3 (in R 3) - Jobs: J8 | Makespan: 20 minutes\n"
          ]
        },
        {
          "output_type": "execute_result",
          "data": {
            "text/plain": [
              "{0: ('R 1', [('J4', 8), ('J9', 8)]),\n",
              " 2: ('R 1', [('J2', 3), ('J6', 10), ('J10', 1)]),\n",
              " 1: ('R 2', [('J1', 10), ('J5', 1), ('J7', 3)]),\n",
              " 4: ('R 2', [('J3', 20)]),\n",
              " 3: ('R 3', [('J8', 20)])}"
            ]
          },
          "metadata": {},
          "execution_count": 84
        }
      ]
    },
    {
      "cell_type": "code",
      "source": [
        "# Correcting the error and updating the Gantt chart code\n",
        "\n",
        "def plot_gantt_chart(schedule):\n",
        "    fig, ax = plt.subplots(figsize=(10, 5))\n",
        "    task_height = 0.4  # Defining task height\n",
        "\n",
        "    # Extracting machine names and creating a mapping for y-axis labels\n",
        "    machine_names = {machine: f\"M {machine + 1} ({details[0]})\" for machine, details in schedule.items()}\n",
        "    y_labels = [machine_names[machine] for machine in sorted(machine_names)]\n",
        "\n",
        "    task_colors = {}\n",
        "    min_label_duration = 1\n",
        "\n",
        "    for machine in sorted(schedule):\n",
        "        machine_name, tasks = schedule[machine]\n",
        "        cumulative_duration = 0\n",
        "        for task in tasks:\n",
        "            task_name, task_duration = task\n",
        "            full_task_name = f\"{task_name}\"\n",
        "\n",
        "            if full_task_name not in task_colors:\n",
        "                task_colors[full_task_name] = plt.cm.viridis(machine / len(schedule))\n",
        "\n",
        "            start_time = cumulative_duration\n",
        "            cumulative_duration += task_duration\n",
        "\n",
        "            ax.barh(y_labels[machine], task_duration, left=start_time, height=task_height, color=task_colors[full_task_name])\n",
        "            ax.text(start_time + task_duration / 2, y_labels[machine], full_task_name, ha='center', va='center', color='white')\n",
        "\n",
        "    ax.set_yticks(range(len(y_labels)))\n",
        "    ax.set_yticklabels(y_labels)\n",
        "    ax.set_xlabel('Time')\n",
        "    ax.set_title('Gantt Chart of Schedule')\n",
        "\n",
        "    plt.show()\n",
        "\n",
        "# Sample schedule\n",
        "sample_schedule = {\n",
        "    0: ('R 1', [('J4', 8), ('J9', 8)]),\n",
        "    2: ('R 1', [('J2', 3), ('J6', 10), ('J10', 1)]),\n",
        "    1: ('R 2', [('J1', 10), ('J5', 1), ('J7', 3)]),\n",
        "    4: ('R 2', [('J3', 20)]),\n",
        "    3: ('R 3', [('J8', 20)])}\n",
        "\n",
        "# Plot the Gantt chart\n",
        "plot_gantt_chart(sample_schedule)\n"
      ],
      "metadata": {
        "colab": {
          "base_uri": "https://localhost:8080/",
          "height": 487
        },
        "id": "yy-AW92W66fp",
        "outputId": "0e1fbed6-03fb-4187-d26d-fb638a6bbec7"
      },
      "execution_count": 2,
      "outputs": [
        {
          "output_type": "display_data",
          "data": {
            "text/plain": [
              "<Figure size 1000x500 with 1 Axes>"
            ],
            "image/png": "[encoded data removed]"
          },
          "metadata": {}
        }
      ]
    },
    {
      "cell_type": "code",
      "source": [
        "# Re-defining the original schedule and job subtasks due to code execution state reset\n",
        "\n",
        "# User input for subtasks of each job\n",
        "job_subtasks = {\n",
        "    'J1': [('T1', 4,'S1'), ('T2', 3,'S3'), ('T3', 3),'S4'],\n",
        "    'J2': [('T1', 3,'S1')],\n",
        "    'J3': [('T1', 7,'S3'), ('T2', 8,'S4'), ('T3', 5,'S6')],\n",
        "    'J4': [('T1', 4,'S1'), ('T2', 4,'S3')],\n",
        "    'J5': [('T1', 1,'S1')],\n",
        "    'J6': [('T1', 5,'S2'), ('T2', 5,'S3')],\n",
        "    'J7': [('T1', 1,'S2'), ('T2', 1,'S2'), ('T3', 1,'S1')],\n",
        "    'J8': [('T1', 10,'S4'), ('T2', 10,'S2')],\n",
        "    'J9': [('T1', 4,'S1'), ('T2', 4,'S4')],\n",
        "    'J10': [('T1', 1,'S4')]\n",
        "}\n",
        "\n",
        "# Replace jobs with their corresponding subtasks and tools in the schedule\n",
        "for machine, (cell, jobs) in original_schedule.items():\n",
        "    new_jobs = []\n",
        "    for job_info in jobs:\n",
        "        job, duration = job_info[0], job_info[1]  # Unpack job ID and duration\n",
        "        if job in job_subtasks:\n",
        "            for subtask in job_subtasks[job]:\n",
        "                # Extract task number and job number more safely\n",
        "                task_number = subtask[0][1:]  # Assuming task format is 'T<number>'\n",
        "                job_number = job[1:]  # Extracting job number from job ID\n",
        "                subtask_label = f\"T{job_number}{task_number}\"  # Correct format: TXY\n",
        "\n",
        "                tool = subtask[2] if len(subtask) > 2 else 'None'  # Handling missing tool info\n",
        "                new_jobs.append((subtask_label, subtask[1], tool))\n",
        "    original_schedule[machine] = (cell, new_jobs)\n",
        "\n",
        "# Displaying the updated schedule with tools\n",
        "for machine, (cell, jobs) in original_schedule.items():\n",
        "    job_list = ', '.join([f\"{job[0]} ({job[1]} units, Tool: {job[2]})\" for job in jobs])\n",
        "    print(f\"Machine {machine} (in {cell}) - Tasks: {job_list}\")\n",
        "\n",
        "# Return original_schedule for further analysis if needed\n",
        "original_schedule\n"
      ],
      "metadata": {
        "colab": {
          "base_uri": "https://localhost:8080/"
        },
        "id": "b0DxQyd0fAGB",
        "outputId": "ba712b0d-dd2c-414c-8881-5217046041cc"
      },
      "execution_count": null,
      "outputs": [
        {
          "output_type": "stream",
          "name": "stdout",
          "text": [
            "Machine 0 (in R 1) - Tasks: T41 (4 units, Tool: S1), T42 (4 units, Tool: S3), T91 (4 units, Tool: S1), T92 (4 units, Tool: S4)\n",
            "Machine 1 (in R 2) - Tasks: T11 (4 units, Tool: S1), T12 (3 units, Tool: S3), T13 (3 units, Tool: None), T1 (4 units, Tool: None), T51 (1 units, Tool: S1), T71 (1 units, Tool: S2), T72 (1 units, Tool: S2), T73 (1 units, Tool: S1)\n",
            "Machine 2 (in R 1) - Tasks: T21 (3 units, Tool: S1), T61 (5 units, Tool: S2), T62 (5 units, Tool: S3), T101 (1 units, Tool: S4)\n",
            "Machine 3 (in R 3) - Tasks: T81 (10 units, Tool: S4), T82 (10 units, Tool: S2)\n",
            "Machine 4 (in R 2) - Tasks: T31 (7 units, Tool: S3), T32 (8 units, Tool: S4), T33 (5 units, Tool: S6)\n"
          ]
        },
        {
          "output_type": "execute_result",
          "data": {
            "text/plain": [
              "{0: ('R 1',\n",
              "  [('T41', 4, 'S1'), ('T42', 4, 'S3'), ('T91', 4, 'S1'), ('T92', 4, 'S4')]),\n",
              " 1: ('R 2',\n",
              "  [('T11', 4, 'S1'),\n",
              "   ('T12', 3, 'S3'),\n",
              "   ('T13', 3, 'None'),\n",
              "   ('T1', '4', 'None'),\n",
              "   ('T51', 1, 'S1'),\n",
              "   ('T71', 1, 'S2'),\n",
              "   ('T72', 1, 'S2'),\n",
              "   ('T73', 1, 'S1')]),\n",
              " 2: ('R 1',\n",
              "  [('T21', 3, 'S1'), ('T61', 5, 'S2'), ('T62', 5, 'S3'), ('T101', 1, 'S4')]),\n",
              " 3: ('R 3', [('T81', 10, 'S4'), ('T82', 10, 'S2')]),\n",
              " 4: ('R 2', [('T31', 7, 'S3'), ('T32', 8, 'S4'), ('T33', 5, 'S6')])}"
            ]
          },
          "metadata": {},
          "execution_count": 85
        }
      ]
    },
    {
      "cell_type": "code",
      "source": [
        "# Original schedule with robotic cells and tasks\n",
        "\n",
        "\n",
        "# Filter function for a specific robotic cell\n",
        "def filter_schedule_by_robot_cell(schedule, cell_name):\n",
        "    return {machine: (cell, tasks) for machine, (cell, tasks) in schedule.items() if cell == cell_name}\n",
        "\n",
        "# Example: Filtering for Robotic Cell R1\n",
        "filtered_schedule_R1 = filter_schedule_by_robot_cell(original_schedule, 'R 1')\n",
        "\n",
        "# Displaying the filtered schedule for R1\n",
        "for machine, (cell, tasks) in filtered_schedule_R1.items():\n",
        "    task_list = ', '.join([f\"{task[0]} ({task[1]})\" for task in tasks])\n",
        "    print(f\"Machine {machine} (in {cell}) - Tasks: {task_list}\")\n",
        "\n",
        "# Return filtered_schedule_R1 for further analysis if needed\n",
        "filtered_schedule_R1\n",
        "\n"
      ],
      "metadata": {
        "colab": {
          "base_uri": "https://localhost:8080/"
        },
        "id": "CsppfoMgRTdE",
        "outputId": "9b1b32df-f00b-4467-c8e2-b91a74eca63a"
      },
      "execution_count": null,
      "outputs": [
        {
          "output_type": "stream",
          "name": "stdout",
          "text": [
            "Machine 0 (in R 1) - Tasks: T41 (4), T42 (4), T91 (4), T92 (4)\n",
            "Machine 2 (in R 1) - Tasks: T21 (3), T61 (5), T62 (5), T101 (1)\n"
          ]
        },
        {
          "output_type": "execute_result",
          "data": {
            "text/plain": [
              "{0: ('R 1',\n",
              "  [('T41', 4, 'S1'), ('T42', 4, 'S3'), ('T91', 4, 'S1'), ('T92', 4, 'S4')]),\n",
              " 2: ('R 1',\n",
              "  [('T21', 3, 'S1'), ('T61', 5, 'S2'), ('T62', 5, 'S3'), ('T101', 1, 'S4')])}"
            ]
          },
          "metadata": {},
          "execution_count": 86
        }
      ]
    },
    {
      "cell_type": "code",
      "source": [
        "def calculate_makespan_and_tool_change(schedule):\n",
        "    machines = {}\n",
        "    makespan = 0\n",
        "    tool_changeover_time = 0\n",
        "\n",
        "    for _, (job, tasks) in schedule.items():\n",
        "        current_tool = None\n",
        "        current_machine = None\n",
        "        machine_time = 0\n",
        "\n",
        "        for task in tasks:\n",
        "            task_id, processing_time, tool = task\n",
        "\n",
        "            if current_tool is None:\n",
        "                current_tool = tool\n",
        "                current_machine = job + current_tool\n",
        "                machines[current_machine] = 0\n",
        "\n",
        "            if current_tool != tool:\n",
        "                tool_changeover_time += 5\n",
        "                current_tool = tool\n",
        "\n",
        "            if current_machine != job + current_tool:\n",
        "                machine_time = machines.get(current_machine, 0)\n",
        "                current_machine = job + current_tool\n",
        "\n",
        "            machine_time += processing_time\n",
        "            machines[current_machine] = machine_time\n",
        "            makespan = max(makespan, machine_time)\n",
        "\n",
        "    return makespan, tool_changeover_time\n",
        "\n",
        "schedule = filtered_schedule_R1\n",
        "\n",
        "makespan, tool_changeover_time = calculate_makespan_and_tool_change(schedule)\n",
        "\n",
        "print(\"Makespan:\", makespan)\n",
        "print(\"Tool Changeover Time:\", tool_changeover_time)\n",
        "\n",
        "# Remove 'R 1' from each schedule entry\n",
        "new_schedule = {key: value[1] for key, value in schedule.items()}\n",
        "\n",
        "print(new_schedule)\n"
      ],
      "metadata": {
        "colab": {
          "base_uri": "https://localhost:8080/"
        },
        "id": "DUReSS-hod8h",
        "outputId": "8da9b615-376d-4a6a-8803-e4ada4c8624a"
      },
      "execution_count": null,
      "outputs": [
        {
          "output_type": "stream",
          "name": "stdout",
          "text": [
            "Makespan: 16\n",
            "Tool Changeover Time: 30\n",
            "{0: [('T41', 4, 'S1'), ('T42', 4, 'S3'), ('T91', 4, 'S1'), ('T92', 4, 'S4')], 2: [('T21', 3, 'S1'), ('T61', 5, 'S2'), ('T62', 5, 'S3'), ('T101', 1, 'S4')]}\n"
          ]
        }
      ]
    },
    {
      "cell_type": "code",
      "source": [
        "\n"
      ],
      "metadata": {
        "id": "y0m1qZ_SxeLu"
      },
      "execution_count": null,
      "outputs": []
    }
  ],
  "metadata": {
    "accelerator": "GPU",
    "colab": {
      "provenance": []
    },
    "kernelspec": {
      "display_name": "Python 3",
      "name": "python3"
    },
    "language_info": {
      "name": "python"
    }
  },
  "nbformat": 4,
  "nbformat_minor": 0
}